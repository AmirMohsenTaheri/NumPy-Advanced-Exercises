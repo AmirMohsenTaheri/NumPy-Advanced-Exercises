{
 "cells": [
  {
   "cell_type": "code",
   "execution_count": 1,
   "metadata": {},
   "outputs": [],
   "source": [
    "import numpy as np"
   ]
  },
  {
   "cell_type": "markdown",
   "metadata": {},
   "source": [
    "### 1.Write a NumPy program to find the dot product of two arrays of different dimensions."
   ]
  },
  {
   "cell_type": "code",
   "execution_count": 2,
   "metadata": {},
   "outputs": [
    {
     "name": "stdout",
     "output_type": "stream",
     "text": [
      "First original arrays:\n",
      "[[38 48 12]\n",
      " [30 37  8]\n",
      " [ 1 42  7]\n",
      " [ 7 25 13]\n",
      " [10 21 47]] \n",
      "Seconde original arrays:\n",
      "[[11 26 32  8]\n",
      " [30 20 22 39]\n",
      " [ 0 17  3  1]]\n",
      "Dot product of the said two arrays:\n",
      "[[1858 2152 2308 2188]\n",
      " [1440 1656 1798 1691]\n",
      " [1271  985  977 1653]\n",
      " [ 827  903  813 1044]\n",
      " [ 740 1479  923  946]]\n"
     ]
    }
   ],
   "source": [
    "# import the random function to generate the random numbers that \n",
    "# we will need to create the dimensions of the matrix\n",
    "import random\n",
    "\n",
    "i1 = random.randint(1, 5)\n",
    "j = random.randint(1, 5)\n",
    "j2 = random.randint(1, 5)\n",
    "\n",
    "# Note: the matrix multiplicity condition must be maintained\n",
    "# the number of rows of the first matrix should be equal to the number of columns of the second matrix\n",
    "# we use j for both\n",
    "arr1 = np.random.randint(0, 50, (i1 ,j))\n",
    "arr2 = np.random.randint(0, 50, (j, j2))\n",
    "\n",
    "print(f'''First original arrays:\n",
    "{arr1} \n",
    "Seconde original arrays:\n",
    "{arr2}''')\n",
    "\n",
    "result = np.dot(arr1, arr2)\n",
    "print(f'''Dot product of the said two arrays:\n",
    "{result}''')\n",
    "\n"
   ]
  },
  {
   "cell_type": "markdown",
   "metadata": {},
   "source": [
    "### 2.Write a NumPy program to create a 3x3 identity matrix and stack it vertically and horizontally with another 3x3 matrix"
   ]
  },
  {
   "cell_type": "code",
   "execution_count": 9,
   "metadata": {},
   "outputs": [
    {
     "name": "stdout",
     "output_type": "stream",
     "text": [
      "Identity Matrix:\n",
      "[[1 0 0]\n",
      " [0 1 0]\n",
      " [0 0 1]]\n",
      "Random Matrix: \n",
      "[[23 23  3]\n",
      " [47 20 36]\n",
      " [13 37 36]]\n",
      "\n",
      "Vertical Stack:\n",
      "[[ 1  0  0]\n",
      " [ 0  1  0]\n",
      " [ 0  0  1]\n",
      " [23 23  3]\n",
      " [47 20 36]\n",
      " [13 37 36]]\n",
      "Horizontal Stack:\n",
      "[[ 1  0  0 23 23  3]\n",
      " [ 0  1  0 47 20 36]\n",
      " [ 0  0  1 13 37 36]]\n"
     ]
    }
   ],
   "source": [
    "identity = np.identity(3, dtype=int)\n",
    "matrix = np.random.randint(0, 50, (3 ,3))\n",
    "\n",
    "print(f'''Identity Matrix:\n",
    "{identity}\n",
    "Random Matrix: \n",
    "{matrix}\n",
    "''')\n",
    "\n",
    "vertical = np.vstack([identity, matrix])\n",
    "print(f'''Vertical Stack:\n",
    "{vertical}''')\n",
    "\n",
    "horizontal = np.hstack([identity, matrix])\n",
    "\n",
    "print(f'''Horizontal Stack:\n",
    "{horizontal}''')"
   ]
  },
  {
   "cell_type": "markdown",
   "metadata": {},
   "source": [
    "### 3.Write a NumPy program to create a 4x4 array with random values and find the sum of each row."
   ]
  },
  {
   "cell_type": "code",
   "execution_count": 10,
   "metadata": {},
   "outputs": [
    {
     "name": "stdout",
     "output_type": "stream",
     "text": [
      "Original array:\n",
      "[[0.01021102 0.76542801 0.08899193 0.03794117]\n",
      " [0.12674557 0.73596686 0.27322472 0.84304357]\n",
      " [0.79481087 0.47595319 0.87818799 0.58975128]\n",
      " [0.76127344 0.71690551 0.13864638 0.07882224]]\n",
      "Sum of each row:\n",
      "[0.90257214 1.97898073 2.73870334 1.69564758]\n"
     ]
    }
   ],
   "source": [
    "# creat a random 4x4 array\n",
    "arr = np.random.rand(4, 4)\n",
    "\n",
    "# Calculate sum of each row\n",
    "sum_row = np.sum(arr, axis=1)\n",
    "\n",
    "print(f\"Original array:\\n{arr}\")\n",
    "\n",
    "# print sum of each row\n",
    "print(f\"Sum of each row:\\n{sum_row}\")"
   ]
  },
  {
   "cell_type": "markdown",
   "metadata": {},
   "source": [
    "### 4.Write a NumPy program to create a 3x3 array with random values and subtract the mean of each row from each element"
   ]
  },
  {
   "cell_type": "code",
   "execution_count": 11,
   "metadata": {},
   "outputs": [
    {
     "name": "stdout",
     "output_type": "stream",
     "text": [
      "Original array elements:\n",
      "[[0.71290171 0.8486493  0.95549329]\n",
      " [0.95784279 0.902665   0.4356793 ]\n",
      " [0.93547585 0.03590611 0.2695216 ]]\n",
      "\n",
      "Mean of each row:\n",
      "[0.83901477 0.7653957  0.41363452]\n",
      "\n",
      "Subtract the mean of each row from each element:\n",
      "[[-0.12611306  0.08325361  0.54185877]\n",
      " [ 0.11882802  0.1372693   0.02204478]\n",
      " [ 0.09646109 -0.72948959 -0.14411292]]\n"
     ]
    }
   ],
   "source": [
    "# creat a 3x3 array with random values\n",
    "arr = np.random.rand(3, 3)\n",
    "\n",
    "# Calculate mean of each row\n",
    "mean = np.mean(arr, axis=1)\n",
    "# Calculate result (subtract the mean of each row from each element)\n",
    "result = arr - mean\n",
    "\n",
    "print(f\"Original array elements:\\n{arr}\\n\")\n",
    "print(f\"Mean of each row:\\n{mean}\\n\")\n",
    "print(f\"Subtract the mean of each row from each element:\\n{result}\")"
   ]
  },
  {
   "cell_type": "markdown",
   "metadata": {},
   "source": [
    "###  5.Write a NumPy program to create a 3x3 array with random values and subtract the mean of each column from each element."
   ]
  },
  {
   "cell_type": "code",
   "execution_count": 12,
   "metadata": {},
   "outputs": [
    {
     "name": "stdout",
     "output_type": "stream",
     "text": [
      "Original array elements:\n",
      "[[0.28837198 0.17301243 0.62115664]\n",
      " [0.8447691  0.41405306 0.12537153]\n",
      " [0.82465528 0.4504209  0.63434326]]\n",
      "\n",
      "Mean of each column:\n",
      "[0.65259879 0.3458288  0.46029048]\n",
      "\n",
      "Subtract the mean of each column from each element:\n",
      "[[-0.3642268  -0.17281637  0.16086616]\n",
      " [ 0.19217031  0.06822426 -0.33491894]\n",
      " [ 0.17205649  0.1045921   0.17405278]]\n"
     ]
    }
   ],
   "source": [
    "# creat a 3x3 array with random values\n",
    "arr = np.random.rand(3, 3)\n",
    "\n",
    "# Calculate mean of each column\n",
    "mean = np.mean(arr, axis=0)\n",
    "# Calculate result (subtract the mean of each column from each element)\n",
    "result = arr - mean\n",
    "\n",
    "print(f\"Original array elements:\\n{arr}\\n\")\n",
    "print(f\"Mean of each column:\\n{mean}\\n\")\n",
    "print(f\"Subtract the mean of each column from each element:\\n{result}\")"
   ]
  },
  {
   "cell_type": "markdown",
   "metadata": {},
   "source": [
    "### 6.Write a NumPy program to create a 5x5 array with random values and normalize it row-wise.\n",
    "hint:\n",
    "> use [L1 normalization](https://blog.enterprisedna.co/normalize-numpy-array/)"
   ]
  },
  {
   "cell_type": "code",
   "execution_count": 13,
   "metadata": {},
   "outputs": [
    {
     "name": "stdout",
     "output_type": "stream",
     "text": [
      "Original array:\n",
      "[[0.03455846 0.73036147 0.12929552 0.55036615 0.69009192]\n",
      " [0.24046992 0.18805615 0.80681237 0.97400773 0.20418483]\n",
      " [0.59712666 0.61884203 0.55613958 0.24082882 0.44305432]\n",
      " [0.2733629  0.99139253 0.68302656 0.53108198 0.54431111]\n",
      " [0.32139671 0.74241007 0.11301737 0.24880235 0.21769622]]\n",
      "\n",
      "L1 normalized matrix:\n",
      "[[0.0299607  0.63319202 0.11209366 0.47714381 0.59828005]\n",
      " [0.18258755 0.14279005 0.61260839 0.73955895 0.15503647]\n",
      " [0.52308889 0.54211177 0.48718379 0.21096844 0.38811998]\n",
      " [0.18852908 0.68372966 0.47106015 0.36626915 0.37539283]\n",
      " [0.36472095 0.84248685 0.1282521  0.28234087 0.24704164]]\n"
     ]
    }
   ],
   "source": [
    "# creat a 5x5 matrix\n",
    "arr = np.random.rand(5, 5)\n",
    "\n",
    "# Calculate l1 normaliztion\n",
    "# matrix / l1 norm\n",
    "# l1 norm = sum of the absolute values of the array elements(sum(|arr|))\n",
    "# can use np.linalg.norm()\n",
    "l1_norm = np.linalg.norm(arr, axis=1, keepdims=True)\n",
    "norm_arr = arr / l1_norm\n",
    "\n",
    "# print original and normalized matirx\n",
    "print(f\"Original array:\\n{arr}\\n\")\n",
    "print(f\"L1 normalized matrix:\\n{norm_arr}\")"
   ]
  },
  {
   "cell_type": "markdown",
   "metadata": {},
   "source": [
    "### 7.Write a NumPy program to create a 3x3x3 array with random values and find the sum along the last axis."
   ]
  },
  {
   "cell_type": "code",
   "execution_count": 14,
   "metadata": {},
   "outputs": [
    {
     "name": "stdout",
     "output_type": "stream",
     "text": [
      "Original array:\n",
      "[[[0.84665984 0.39710606 0.59823046]\n",
      "  [0.10984816 0.81177807 0.65334799]\n",
      "  [0.81328866 0.31665518 0.22805513]]\n",
      "\n",
      " [[0.95350035 0.59171689 0.46996177]\n",
      "  [0.35241027 0.42523891 0.33126815]\n",
      "  [0.96616743 0.92510163 0.51219584]]\n",
      "\n",
      " [[0.62841371 0.46559338 0.15042922]\n",
      "  [0.70692414 0.12770214 0.2844258 ]\n",
      "  [0.55749369 0.44046016 0.06543778]]]\n",
      "\n",
      "Sum along the last axis:\n",
      "[[1.84199637 1.57497422 1.35799898]\n",
      " [2.01517901 1.10891733 2.4034649 ]\n",
      " [1.24443632 1.11905208 1.06339162]]\n"
     ]
    }
   ],
   "source": [
    "# creat a 3x3x3 array \n",
    "arr = np.random.rand(3, 3, 3)\n",
    "\n",
    "# sum of arrays element\n",
    "# use np.sum()\n",
    "sum_arr = np.sum(arr, axis=2)\n",
    "\n",
    "# print original and normalized matirx\n",
    "print(f\"Original array:\\n{arr}\\n\")\n",
    "print(f\"Sum along the last axis:\\n{sum_arr}\")"
   ]
  },
  {
   "cell_type": "markdown",
   "metadata": {},
   "source": [
    "### 8.Write a NumPy program to create a 5x5 array with random values and sort each row."
   ]
  },
  {
   "cell_type": "code",
   "execution_count": 15,
   "metadata": {},
   "outputs": [
    {
     "name": "stdout",
     "output_type": "stream",
     "text": [
      "Original array:\n",
      "[[0.2095608  0.875306   0.14749504 0.98028671 0.90058405]\n",
      " [0.43632091 0.57102217 0.0830769  0.17291587 0.48674099]\n",
      " [0.2303871  0.51594364 0.73000487 0.90670764 0.42647388]\n",
      " [0.01175666 0.62775987 0.1604511  0.51754948 0.78959329]\n",
      " [0.74755965 0.36590009 0.19920822 0.18922082 0.83674179]]\n",
      "\n",
      "sorted matrix:\n",
      "[[0.14749504 0.2095608  0.875306   0.90058405 0.98028671]\n",
      " [0.0830769  0.17291587 0.43632091 0.48674099 0.57102217]\n",
      " [0.2303871  0.42647388 0.51594364 0.73000487 0.90670764]\n",
      " [0.01175666 0.1604511  0.51754948 0.62775987 0.78959329]\n",
      " [0.18922082 0.19920822 0.36590009 0.74755965 0.83674179]]\n"
     ]
    }
   ],
   "source": [
    "# creat a 5x5 array \n",
    "arr = np.random.rand(5, 5)\n",
    "\n",
    "# sorting\n",
    "sorted_arr = np.sort(arr)\n",
    "\n",
    "# print original and sorted matirx\n",
    "print(f\"Original array:\\n{arr}\\n\")\n",
    "print(f\"sorted matrix:\\n{sorted_arr}\")"
   ]
  },
  {
   "cell_type": "markdown",
   "metadata": {},
   "source": [
    "### 9.Write a NumPy program to create a 5x5 array with random values and sort each column."
   ]
  },
  {
   "cell_type": "code",
   "execution_count": 16,
   "metadata": {},
   "outputs": [
    {
     "name": "stdout",
     "output_type": "stream",
     "text": [
      "Original array:\n",
      "[[0.20646877 0.96767984 0.25917103 0.78062724 0.2288664 ]\n",
      " [0.99045527 0.5982985  0.58561837 0.69396926 0.79870447]\n",
      " [0.9187208  0.12887276 0.75071767 0.8882211  0.12101039]\n",
      " [0.81494815 0.85661897 0.10400253 0.14204699 0.54489069]\n",
      " [0.18795562 0.40458373 0.4345952  0.69166862 0.77570937]]\n",
      "\n",
      "sorted matrix:\n",
      "[[0.18795562 0.12887276 0.10400253 0.14204699 0.12101039]\n",
      " [0.20646877 0.40458373 0.25917103 0.69166862 0.2288664 ]\n",
      " [0.81494815 0.5982985  0.4345952  0.69396926 0.54489069]\n",
      " [0.9187208  0.85661897 0.58561837 0.78062724 0.77570937]\n",
      " [0.99045527 0.96767984 0.75071767 0.8882211  0.79870447]]\n"
     ]
    }
   ],
   "source": [
    "# creat a 5x5 array \n",
    "arr = np.random.rand(5, 5)\n",
    "\n",
    "# sorting\n",
    "sorted_arr = np.sort(arr, axis=0)\n",
    "\n",
    "# print original and sorted matrix\n",
    "print(f\"Original array:\\n{arr}\\n\")\n",
    "print(f\"sorted matrix:\\n{sorted_arr}\")"
   ]
  },
  {
   "cell_type": "markdown",
   "metadata": {},
   "source": [
    "### 10.Write a NumPy program to create a 5x5 array with random values and find the second-largest value in each row."
   ]
  },
  {
   "cell_type": "code",
   "execution_count": 17,
   "metadata": {},
   "outputs": [
    {
     "name": "stdout",
     "output_type": "stream",
     "text": [
      "Original array:\n",
      "[[0.33792743 0.94910038 0.10864219 0.65286245 0.03686088]\n",
      " [0.51778492 0.68751792 0.98234616 0.91777894 0.87653166]\n",
      " [0.02628658 0.22771743 0.0204077  0.08168265 0.46166627]\n",
      " [0.17424505 0.87257586 0.9998047  0.92697682 0.66734277]\n",
      " [0.76283779 0.32271529 0.3546402  0.5284363  0.67049636]]\n",
      "\n",
      "Second largest value in each row:\n",
      "[0.65286245 0.91777894 0.22771743 0.92697682 0.67049636]\n"
     ]
    }
   ],
   "source": [
    "## creat a 5x5 array \n",
    "arr = np.random.rand(5, 5)\n",
    "\n",
    "# find second largest\n",
    "# can use np.partition\n",
    "second_largest = np.partition(arr, -2)[:, -2]\n",
    "\n",
    "# print original and second largest value in each row\n",
    "print(f\"Original array:\\n{arr}\\n\")\n",
    "print(f\"Second largest value in each row:\\n{second_largest}\")"
   ]
  },
  {
   "cell_type": "markdown",
   "metadata": {},
   "source": [
    "### 11.Write a NumPy program to create a 5x5 array with random values and find the second-largest value in each column."
   ]
  },
  {
   "cell_type": "code",
   "execution_count": 18,
   "metadata": {},
   "outputs": [
    {
     "name": "stdout",
     "output_type": "stream",
     "text": [
      "Original array:\n",
      "[[0.16219815 0.97122728 0.82741379 0.43226576 0.45948447]\n",
      " [0.70782461 0.33289125 0.01609497 0.81131568 0.78531809]\n",
      " [0.23820362 0.0023235  0.30351081 0.76474893 0.41976872]\n",
      " [0.12555465 0.87242245 0.98535064 0.84856396 0.4236814 ]\n",
      " [0.10180947 0.4497356  0.03959112 0.76381141 0.64078539]]\n",
      "\n",
      "Second largest value in each column:\n",
      "[0.23820362 0.87242245 0.82741379 0.81131568 0.64078539]\n"
     ]
    }
   ],
   "source": [
    "# creat a 5x5 array \n",
    "arr = np.random.rand(5, 5)\n",
    "\n",
    "# find second largest\n",
    "# can use np.partition\n",
    "second_largest = np.partition(arr, -2, axis=0)[-2, :]\n",
    "\n",
    "# print original and second largest value in each column\n",
    "print(f\"Original array:\\n{arr}\\n\")\n",
    "print(f\"Second largest value in each column:\\n{second_largest}\")"
   ]
  },
  {
   "cell_type": "markdown",
   "metadata": {},
   "source": [
    "### 12.Write a NumPy program to create a 5x5 array with random values and replace the maximum value with 0."
   ]
  },
  {
   "cell_type": "code",
   "execution_count": 19,
   "metadata": {},
   "outputs": [
    {
     "name": "stdout",
     "output_type": "stream",
     "text": [
      "Original array:\n",
      "[[0.05752661 0.56796214 0.96140629 0.41627702 0.86931655]\n",
      " [0.7964795  0.30257078 0.19498607 0.45354224 0.77634006]\n",
      " [0.1045795  0.52917586 0.90091878 0.93085523 0.23874777]\n",
      " [0.86245441 0.32584025 0.82168211 0.62178477 0.47687053]\n",
      " [0.23316613 0.44070008 0.83821743 0.50110567 0.72563718]]\n",
      "\n",
      "Said array after replacing the maximum value with 0:\n",
      "[[0.05752661 0.56796214 0.         0.41627702 0.86931655]\n",
      " [0.7964795  0.30257078 0.19498607 0.45354224 0.77634006]\n",
      " [0.1045795  0.52917586 0.90091878 0.93085523 0.23874777]\n",
      " [0.86245441 0.32584025 0.82168211 0.62178477 0.47687053]\n",
      " [0.23316613 0.44070008 0.83821743 0.50110567 0.72563718]]\n"
     ]
    }
   ],
   "source": [
    "arr = np.random.rand(5, 5)\n",
    "\n",
    "print(f\"Original array:\\n{arr}\\n\")\n",
    "\n",
    "max_value = arr.max()\n",
    "arr[arr == max_value] = 0\n",
    "\n",
    "print(f\"Said array after replacing the maximum value with 0:\\n{arr}\")"
   ]
  },
  {
   "cell_type": "markdown",
   "metadata": {},
   "source": [
    "###  13.Write a NumPy program to create a 5x5 array with random values and calculate the exponential of each element"
   ]
  },
  {
   "cell_type": "code",
   "execution_count": 20,
   "metadata": {},
   "outputs": [
    {
     "name": "stdout",
     "output_type": "stream",
     "text": [
      "Original array:\n",
      "[[0.60985567 0.52969386 0.13099335 0.82302164 0.34328786]\n",
      " [0.89690374 0.2323342  0.76775237 0.4772527  0.24641588]\n",
      " [0.27623228 0.64657793 0.60922294 0.70988913 0.7812456 ]\n",
      " [0.42134526 0.77249203 0.74396531 0.62596799 0.30651519]\n",
      " [0.7968641  0.91406473 0.46668834 0.90407168 0.11413393]]\n",
      "\n",
      "Exponential of each element array:\n",
      "[[1.84016579 1.69841228 1.13996021 2.27737084 1.40957447]\n",
      " [2.45199931 1.26154126 2.15491736 1.61164066 1.27943156]\n",
      " [1.31815401 1.90899692 1.83900183 2.03376577 2.18419119]\n",
      " [1.52401037 2.16515516 2.10426304 1.87005527 1.35868211]\n",
      " [2.21857279 2.49444118 1.59470432 2.46963826 1.12090223]]\n"
     ]
    }
   ],
   "source": [
    "# creat 5x5 array\n",
    "arr = np.random.rand(5, 5)\n",
    "\n",
    "# calculate exponential of each element\n",
    "exp_arr = np.exp(arr)\n",
    "\n",
    "print(f\"Original array:\\n{arr}\\n\")\n",
    "print(f\"Exponential of each element array:\\n{exp_arr}\")\n"
   ]
  },
  {
   "cell_type": "markdown",
   "metadata": {},
   "source": [
    "### 14.Write a NumPy program to create a 4x4 array with random values and compute the eigenvalues and eigenvectors."
   ]
  },
  {
   "cell_type": "code",
   "execution_count": 21,
   "metadata": {},
   "outputs": [
    {
     "name": "stdout",
     "output_type": "stream",
     "text": [
      "Original array:\n",
      "[[0.82351479 0.88296222 0.78770065 0.13267827]\n",
      " [0.17617112 0.24444565 0.32697943 0.43703837]\n",
      " [0.92427253 0.86024089 0.2141761  0.11909129]\n",
      " [0.52338657 0.89020244 0.39991567 0.00371938]]\n",
      "\n",
      "eigenvalues:\n",
      "[ 1.91963121  0.22905293 -0.52124581 -0.34158241]\n",
      "\n",
      "eigenvectors:\n",
      "[[ 0.66839276  0.61547083 -0.06754581  0.52234811]\n",
      " [ 0.28666287 -0.59634408 -0.55525252 -0.28801773]\n",
      " [ 0.53670425  0.27715893  0.65135831 -0.5484644 ]\n",
      " [ 0.42781312 -0.43445635  0.51270319  0.58599065]]\n"
     ]
    }
   ],
   "source": [
    "arr = np.random.rand(4, 4)\n",
    "\n",
    "eigenvalues, eigenvectors = np.linalg.eig(arr)\n",
    "print(f\"Original array:\\n{arr}\\n\")\n",
    "print(f\"eigenvalues:\\n{eigenvalues}\\n\")\n",
    "print(f\"eigenvectors:\\n{eigenvectors}\")"
   ]
  },
  {
   "cell_type": "markdown",
   "metadata": {},
   "source": [
    "### 15.Write a NumPy program to create a 6x6 array with random values and compute the inverse of the matrix."
   ]
  },
  {
   "cell_type": "code",
   "execution_count": 22,
   "metadata": {},
   "outputs": [
    {
     "name": "stdout",
     "output_type": "stream",
     "text": [
      "Original array:\n",
      "[[0.55151019 0.43880588 0.42042851 0.66133998 0.45697311 0.69025196]\n",
      " [0.52844228 0.86185622 0.8218309  0.83732318 0.27763606 0.18819273]\n",
      " [0.66478132 0.13215224 0.25936859 0.54547794 0.86883754 0.96619119]\n",
      " [0.94669292 0.70849271 0.08878944 0.19204599 0.08188505 0.25065418]\n",
      " [0.07496365 0.59903818 0.05454558 0.9145904  0.34545643 0.52072631]\n",
      " [0.4185534  0.22862107 0.98238674 0.54842766 0.67041933 0.00455979]]\n",
      "\n",
      "invers array:\n",
      "[[  9.01650873  -8.40606006  -6.51829453   2.93182138   1.72964315\n",
      "    4.53339206]\n",
      " [-13.42771133  11.67487905   9.18130751  -2.25609146  -2.3162932\n",
      "   -6.11171298]\n",
      " [ -1.39219858   3.66423949   1.8422158   -1.62104635  -2.10204354\n",
      "   -1.67478766]\n",
      " [ 13.37881629 -12.12000255 -10.11561477   2.83792097   3.9911577\n",
      "    6.60610717]\n",
      " [ -9.93670908   5.77906307   6.48923374  -0.99370009  -0.46006926\n",
      "   -2.17991071]\n",
      " [ -2.61115519   4.84900792   3.6450881   -1.98209568  -2.14852931\n",
      "   -3.60295973]]\n"
     ]
    }
   ],
   "source": [
    "arr = np.random.rand(6, 6)\n",
    "inverse = np.linalg.inv(arr)\n",
    "\n",
    "print(f\"Original array:\\n{arr}\\n\")\n",
    "print(f\"invers array:\\n{inverse}\")"
   ]
  },
  {
   "cell_type": "markdown",
   "metadata": {},
   "source": [
    "### 16.Write a NumPy program to create a 4x4 array with random values and calculate the determinant."
   ]
  },
  {
   "cell_type": "code",
   "execution_count": 23,
   "metadata": {},
   "outputs": [
    {
     "name": "stdout",
     "output_type": "stream",
     "text": [
      "Original array:\n",
      "[[0.58803514 0.86015629 0.89552534 0.37628943]\n",
      " [0.64522417 0.0778281  0.52909834 0.31168939]\n",
      " [0.09417845 0.94044083 0.80916604 0.33385952]\n",
      " [0.99596822 0.29843073 0.8661828  0.23757044]]\n",
      "\n",
      "determinant of array:\n",
      "0.029015273884979396\n"
     ]
    }
   ],
   "source": [
    "arr = np.random.rand(4, 4)\n",
    "\n",
    "determinant = np.linalg.det(arr)\n",
    "\n",
    "print(f\"Original array:\\n{arr}\\n\")\n",
    "print(f\"determinant of array:\\n{determinant}\")"
   ]
  },
  {
   "cell_type": "markdown",
   "metadata": {},
   "source": [
    "###  17.Write a NumPy program to create a 3x3x3 array with random values and flatten it to a 1D array."
   ]
  },
  {
   "cell_type": "code",
   "execution_count": 24,
   "metadata": {},
   "outputs": [
    {
     "name": "stdout",
     "output_type": "stream",
     "text": [
      "Original array:\n",
      "[[[0.11883264 0.38355573 0.68686835]\n",
      "  [0.98442566 0.29734226 0.10915681]\n",
      "  [0.18730618 0.73407767 0.97753578]]\n",
      "\n",
      " [[0.28337536 0.87951905 0.88770141]\n",
      "  [0.2423827  0.26744066 0.11984085]\n",
      "  [0.18955062 0.83376047 0.38012229]]\n",
      "\n",
      " [[0.15114037 0.5102105  0.54456467]\n",
      "  [0.06827245 0.93718175 0.34304179]\n",
      "  [0.95715158 0.96553296 0.04139253]]]\n",
      "\n",
      "flatten array:\n",
      "[0.11883264 0.38355573 0.68686835 0.98442566 0.29734226 0.10915681\n",
      " 0.18730618 0.73407767 0.97753578 0.28337536 0.87951905 0.88770141\n",
      " 0.2423827  0.26744066 0.11984085 0.18955062 0.83376047 0.38012229\n",
      " 0.15114037 0.5102105  0.54456467 0.06827245 0.93718175 0.34304179\n",
      " 0.95715158 0.96553296 0.04139253]\n"
     ]
    }
   ],
   "source": [
    "arr = np.random.rand(3, 3, 3)\n",
    "\n",
    "flatten_arr = arr.flatten()\n",
    "\n",
    "print(f\"Original array:\\n{arr}\\n\")\n",
    "print(f\"flatten array:\\n{flatten_arr}\")"
   ]
  },
  {
   "cell_type": "markdown",
   "metadata": {},
   "source": [
    "### 18.Write a NumPy program to create a 5x5 array with random values and calculate the trace of the matrix."
   ]
  },
  {
   "cell_type": "code",
   "execution_count": 25,
   "metadata": {},
   "outputs": [
    {
     "name": "stdout",
     "output_type": "stream",
     "text": [
      "Original array:\n",
      "[[0.25925732 0.32356926 0.58817012 0.68216349 0.79616319]\n",
      " [0.92888843 0.95712064 0.70064269 0.93682079 0.41302776]\n",
      " [0.56947917 0.71990263 0.39481586 0.23615679 0.24766246]\n",
      " [0.9700272  0.02345879 0.75494548 0.52748751 0.82375332]\n",
      " [0.05569091 0.39667192 0.82266985 0.61439541 0.51544737]]\n",
      "\n",
      "trace of array:\n",
      "2.6541287041874755\n"
     ]
    }
   ],
   "source": [
    "arr = np.random.rand(5, 5)\n",
    "\n",
    "trace_arr = np.trace(arr)\n",
    "\n",
    "print(f\"Original array:\\n{arr}\\n\")\n",
    "print(f\"trace of array:\\n{trace_arr}\")"
   ]
  },
  {
   "cell_type": "markdown",
   "metadata": {},
   "source": [
    "### 19.Write a NumPy program to create a 4x4 array with random values and extract the upper triangular part of the matrix."
   ]
  },
  {
   "cell_type": "code",
   "execution_count": 26,
   "metadata": {},
   "outputs": [
    {
     "name": "stdout",
     "output_type": "stream",
     "text": [
      "Original array:\n",
      "[[0.87087835 0.18106073 0.12646744 0.79158376]\n",
      " [0.52289078 0.37695651 0.00537182 0.33900615]\n",
      " [0.15097205 0.67782804 0.90694052 0.07782964]\n",
      " [0.7581085  0.76329354 0.87952739 0.96560663]]\n",
      "\n",
      "upper triangular part of the matrix:\n",
      "[[0.87087835 0.18106073 0.12646744 0.79158376]\n",
      " [0.         0.37695651 0.00537182 0.33900615]\n",
      " [0.         0.         0.90694052 0.07782964]\n",
      " [0.         0.         0.         0.96560663]]\n"
     ]
    }
   ],
   "source": [
    "arr = np.random.rand(4, 4)\n",
    "\n",
    "upper_triangular = np.triu(arr)\n",
    "\n",
    "print(f\"Original array:\\n{arr}\\n\")\n",
    "print(f\"upper triangular part of the matrix:\\n{upper_triangular}\")"
   ]
  },
  {
   "cell_type": "markdown",
   "metadata": {},
   "source": [
    "### 20.Write a NumPy program to create a 6x6 array with random values and compute the rank of the matrix."
   ]
  },
  {
   "cell_type": "code",
   "execution_count": 27,
   "metadata": {},
   "outputs": [
    {
     "name": "stdout",
     "output_type": "stream",
     "text": [
      "Original array:\n",
      "[[0.08096262 0.30761701 0.05942188 0.67589789 0.87740098 0.41558585]\n",
      " [0.64836041 0.91501722 0.03897478 0.74212122 0.69442564 0.66600336]\n",
      " [0.0301975  0.79054637 0.63150366 0.59826563 0.1721975  0.20004653]\n",
      " [0.82522507 0.85583193 0.54566738 0.9337848  0.70683789 0.657629  ]\n",
      " [0.79926708 0.3705093  0.37108339 0.5422786  0.92602292 0.14249389]\n",
      " [0.82759143 0.56169443 0.03862626 0.1840862  0.36556573 0.6231659 ]]\n",
      "\n",
      "rank of the matrix:\n",
      "6\n"
     ]
    }
   ],
   "source": [
    "arr = np.random.rand(6, 6)\n",
    "\n",
    "rank_arr = np.linalg.matrix_rank(arr)\n",
    "\n",
    "print(f\"Original array:\\n{arr}\\n\")\n",
    "print(f\"rank of the matrix:\\n{rank_arr}\")"
   ]
  },
  {
   "cell_type": "markdown",
   "metadata": {},
   "source": [
    "### 21.Write a NumPy program to create a 3x3 array with random values and compute the Frobenius norm of the matrix."
   ]
  },
  {
   "cell_type": "code",
   "execution_count": 28,
   "metadata": {},
   "outputs": [
    {
     "name": "stdout",
     "output_type": "stream",
     "text": [
      "Original array:\n",
      "[[0.84018372 0.82683901 0.26895953]\n",
      " [0.46933216 0.11805521 0.42317699]\n",
      " [0.73532311 0.78607872 0.72555068]]\n",
      "\n",
      "frobenius norm:\n",
      "1.886860557856821\n"
     ]
    }
   ],
   "source": [
    "arr = np.random.rand(3, 3)\n",
    "\n",
    "fro_norm = np.linalg.norm(arr, 'fro')\n",
    "\n",
    "print(f\"Original array:\\n{arr}\\n\")\n",
    "print(f\"frobenius norm:\\n{fro_norm}\")"
   ]
  },
  {
   "cell_type": "markdown",
   "metadata": {},
   "source": [
    "### 22.Write a NumPy program to create a 5x5 array with random values and find the index of the minimum value in each row."
   ]
  },
  {
   "cell_type": "code",
   "execution_count": 29,
   "metadata": {},
   "outputs": [
    {
     "name": "stdout",
     "output_type": "stream",
     "text": [
      "Original array:\n",
      "[[0.28197534 0.1799042  0.38348092 0.52603933 0.40580768]\n",
      " [0.33093777 0.78329416 0.9501682  0.86371442 0.9626446 ]\n",
      " [0.28580302 0.57755851 0.85773868 0.52406804 0.05527752]\n",
      " [0.89995606 0.79535422 0.40290496 0.13984265 0.62360655]\n",
      " [0.61025105 0.61024817 0.39130757 0.72976198 0.81677274]]\n",
      "\n",
      "index of the minimum value in sech row :\n",
      "[0 0 0 3 2]\n"
     ]
    }
   ],
   "source": [
    "arr = np.random.rand(5, 5)\n",
    "\n",
    "index_max = np.argmin(arr, axis=0)\n",
    "\n",
    "print(f\"Original array:\\n{arr}\\n\")\n",
    "print(f\"index of the minimum value in sech row :\\n{index_max}\")"
   ]
  },
  {
   "cell_type": "markdown",
   "metadata": {},
   "source": [
    "### 23.Write a NumPy program to create a 3x3 array with random values and compute the QR decomposition."
   ]
  },
  {
   "cell_type": "code",
   "execution_count": 30,
   "metadata": {},
   "outputs": [
    {
     "name": "stdout",
     "output_type": "stream",
     "text": [
      "Original Array:\n",
      " [[0.84106034 0.89430349 0.16940862]\n",
      " [0.50610715 0.85274769 0.24079612]\n",
      " [0.66090123 0.77573273 0.32201175]]\n",
      "Q Matrix:\n",
      " [[-0.71074517  0.45941502 -0.53270925]\n",
      " [-0.42769013 -0.88345614 -0.19127569]\n",
      " [-0.55850018  0.09188622  0.82439946]]\n",
      "R Matrix:\n",
      " [[-1.18335007 -1.43358053 -0.4032361 ]\n",
      " [ 0.         -0.27122958 -0.1053155 ]\n",
      " [ 0.          0.          0.12916233]]\n"
     ]
    }
   ],
   "source": [
    "arr = np.random.rand(3, 3)\n",
    "\n",
    "q, r = np.linalg.qr(arr)\n",
    "\n",
    "print(\"Original Array:\\n\", arr)\n",
    "print(\"Q Matrix:\\n\", q)\n",
    "print(\"R Matrix:\\n\", r)"
   ]
  },
  {
   "cell_type": "markdown",
   "metadata": {},
   "source": [
    "### 24.Write a NumPy program to create a 3x3 array with random values and compute the Cholesky decomposition."
   ]
  },
  {
   "cell_type": "code",
   "execution_count": 31,
   "metadata": {},
   "outputs": [
    {
     "name": "stdout",
     "output_type": "stream",
     "text": [
      "Original array:\n",
      "[[0.71654692 0.35029697 0.93152857 0.03698826 0.45630715]\n",
      " [0.55129079 0.9166809  0.79573304 0.75351103 0.38610885]\n",
      " [0.71032842 0.93303757 0.50313766 0.63965623 0.68384526]\n",
      " [0.71791926 0.60020276 0.95510921 0.03462126 0.36601368]\n",
      " [0.89229703 0.25780468 0.63040361 0.05831441 0.74975306]]\n",
      "\n",
      "Symmetric Positive-Definite Array:\n",
      "[[1.71347728 1.66143961 1.64021423 1.7826788  1.66119449]\n",
      " [1.66143961 2.49427538 2.39328522 1.87339725 1.56329958]\n",
      " [1.64021423 2.39328522 2.5050775  1.82296401 1.74156144]\n",
      " [1.7826788  1.87339725 1.82296401 1.92304966 1.67387539]\n",
      " [1.66119449 1.56329958 1.74156144 1.67387539 1.82559618]]\n",
      "\n",
      "cholesky decopomposition\n",
      "[[1.71347728 1.66143961 1.64021423 1.7826788  1.66119449]\n",
      " [1.66143961 2.49427538 2.39328522 1.87339725 1.56329958]\n",
      " [1.64021423 2.39328522 2.5050775  1.82296401 1.74156144]\n",
      " [1.7826788  1.87339725 1.82296401 1.92304966 1.67387539]\n",
      " [1.66119449 1.56329958 1.74156144 1.67387539 1.82559618]]\n"
     ]
    }
   ],
   "source": [
    "arr = np.random.random((5, 5))\n",
    "\n",
    "# Make the array symmetric and positive-definite for Cholesky decomposition\n",
    "symmetric_arr = np.dot(arr, arr.T)\n",
    "# Compute the Cholesky decomposition\n",
    "cholesky = np.linalg.cholesky(symmetric_arr)\n",
    "\n",
    "print(f\"Original array:\\n{arr}\\n\")\n",
    "print(f\"Symmetric Positive-Definite Array:\\n{symmetric_arr}\\n\")\n",
    "print(f\"cholesky decopomposition\\n{symmetric_arr}\")"
   ]
  },
  {
   "cell_type": "markdown",
   "metadata": {},
   "source": [
    "### 25.Write a NumPy program to create a 4x4 array with random values and swap the first and last rows."
   ]
  },
  {
   "cell_type": "code",
   "execution_count": 32,
   "metadata": {},
   "outputs": [
    {
     "name": "stdout",
     "output_type": "stream",
     "text": [
      "Original array:\n",
      "[[0.5694331  0.46807357 0.66649254 0.23859766]\n",
      " [0.15386927 0.42418389 0.74452377 0.62608889]\n",
      " [0.06671334 0.40321984 0.23621149 0.99446895]\n",
      " [0.08375982 0.94017785 0.93130997 0.28203846]]\n",
      "\n",
      "Array after swapping first and last rows:\n",
      "[[0.08375982 0.94017785 0.93130997 0.28203846]\n",
      " [0.15386927 0.42418389 0.74452377 0.62608889]\n",
      " [0.06671334 0.40321984 0.23621149 0.99446895]\n",
      " [0.5694331  0.46807357 0.66649254 0.23859766]]\n"
     ]
    }
   ],
   "source": [
    "arr = np.random.rand(4, 4)\n",
    "\n",
    "print(f\"Original array:\\n{arr}\\n\")\n",
    "\n",
    "arr[[0,-1]] = arr[[-1,0]]\n",
    "print(f\"Array after swapping first and last rows:\\n{arr}\")"
   ]
  },
  {
   "cell_type": "markdown",
   "metadata": {},
   "source": [
    "### 26.Write a NumPy program to create a 4x4 array with random values and rotate the array 90 degrees counterclockwise."
   ]
  },
  {
   "cell_type": "code",
   "execution_count": 33,
   "metadata": {},
   "outputs": [
    {
     "name": "stdout",
     "output_type": "stream",
     "text": [
      "Original array:\n",
      "[[0.67505402 0.59073423 0.33587028 0.0098932 ]\n",
      " [0.39149498 0.40776905 0.26037831 0.18392826]\n",
      " [0.28748255 0.22913088 0.77951501 0.11428585]\n",
      " [0.61242075 0.83805412 0.13757458 0.63821949]]\n",
      "\n",
      "rotated array:\n",
      "[[0.0098932  0.18392826 0.11428585 0.63821949]\n",
      " [0.33587028 0.26037831 0.77951501 0.13757458]\n",
      " [0.59073423 0.40776905 0.22913088 0.83805412]\n",
      " [0.67505402 0.39149498 0.28748255 0.61242075]]\n"
     ]
    }
   ],
   "source": [
    "arr = np.random.rand(4, 4)\n",
    "\n",
    "rotated_arr = np.rot90(arr)\n",
    "\n",
    "print(f\"Original array:\\n{arr}\\n\")\n",
    "print(f\"rotated array:\\n{rotated_arr}\")"
   ]
  },
  {
   "cell_type": "markdown",
   "metadata": {},
   "source": [
    "###  27.Write a NumPy program to create a 4x4 array with random values and shift all elements one position to the right."
   ]
  },
  {
   "cell_type": "code",
   "execution_count": 34,
   "metadata": {},
   "outputs": [
    {
     "name": "stdout",
     "output_type": "stream",
     "text": [
      "Original array:\n",
      "[[0.88856394 0.48872088 0.25090498 0.54227553]\n",
      " [0.06487722 0.06257335 0.55174492 0.82672055]\n",
      " [0.93509714 0.16861567 0.36908846 0.77039768]\n",
      " [0.18782145 0.38643785 0.89562499 0.09678191]]\n",
      "\n",
      "shifted array:\n",
      "[[0.54227553 0.88856394 0.48872088 0.25090498]\n",
      " [0.82672055 0.06487722 0.06257335 0.55174492]\n",
      " [0.77039768 0.93509714 0.16861567 0.36908846]\n",
      " [0.09678191 0.18782145 0.38643785 0.89562499]]\n"
     ]
    }
   ],
   "source": [
    "arr = np.random.random((4, 4))\n",
    "\n",
    "shifted_arr = np.roll(arr, shift=1, axis=1)\n",
    "\n",
    "print(f\"Original array:\\n{arr}\\n\")\n",
    "print(f\"shifted array:\\n{shifted_arr}\")"
   ]
  },
  {
   "cell_type": "markdown",
   "metadata": {},
   "source": [
    "###  28.Write a NumPy program to create a 3x3 array with random values and calculate the pairwise Euclidean distance between each pair of rows.\n",
    "hint:\n",
    "> use sipy library"
   ]
  },
  {
   "cell_type": "code",
   "execution_count": 35,
   "metadata": {},
   "outputs": [
    {
     "name": "stdout",
     "output_type": "stream",
     "text": [
      "Original Array:\n",
      " [[0.05294323 0.00930488 0.1139951 ]\n",
      " [0.43073085 0.82603125 0.00268468]\n",
      " [0.88240643 0.61733432 0.71578445]]\n",
      "Pairwise Euclidean distances between each pair of rows:\n",
      " [[0.         0.90672788 1.19157854]\n",
      " [0.90672788 0.         0.86952661]\n",
      " [1.19157854 0.86952661 0.        ]]\n"
     ]
    }
   ],
   "source": [
    "from scipy.spatial import distance\n",
    "\n",
    "array = np.random.random((3, 3))\n",
    "\n",
    "# Calculate pairwise Euclidean distances between each pair of rows\n",
    "pairwise_distances = distance.cdist(array, array, 'euclidean')\n",
    "\n",
    "print(\"Original Array:\\n\", array)\n",
    "print(\"Pairwise Euclidean distances between each pair of rows:\\n\", pairwise_distances)"
   ]
  },
  {
   "cell_type": "code",
   "execution_count": null,
   "metadata": {},
   "outputs": [],
   "source": []
  }
 ],
 "metadata": {
  "kernelspec": {
   "display_name": "Python 3",
   "language": "python",
   "name": "python3"
  },
  "language_info": {
   "codemirror_mode": {
    "name": "ipython",
    "version": 3
   },
   "file_extension": ".py",
   "mimetype": "text/x-python",
   "name": "python",
   "nbconvert_exporter": "python",
   "pygments_lexer": "ipython3",
   "version": "3.12.5"
  }
 },
 "nbformat": 4,
 "nbformat_minor": 2
}
